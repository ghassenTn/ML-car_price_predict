{
 "cells": [
  {
   "cell_type": "code",
   "execution_count": 1,
   "id": "8879e22c",
   "metadata": {
    "_cell_guid": "b1076dfc-b9ad-4769-8c92-a6c4dae69d19",
    "_uuid": "8f2839f25d086af736a60e9eeb907d3b93b6e0e5",
    "execution": {
     "iopub.execute_input": "2024-02-02T09:20:18.702799Z",
     "iopub.status.busy": "2024-02-02T09:20:18.701946Z",
     "iopub.status.idle": "2024-02-02T09:20:19.720273Z",
     "shell.execute_reply": "2024-02-02T09:20:19.719067Z"
    },
    "papermill": {
     "duration": 1.035803,
     "end_time": "2024-02-02T09:20:19.723047",
     "exception": false,
     "start_time": "2024-02-02T09:20:18.687244",
     "status": "completed"
    },
    "tags": []
   },
   "outputs": [
    {
     "name": "stdout",
     "output_type": "stream",
     "text": [
      "/kaggle/input/vehicle-dataset-from-cardekho/car data.csv\n",
      "/kaggle/input/vehicle-dataset-from-cardekho/car details v4.csv\n",
      "/kaggle/input/vehicle-dataset-from-cardekho/CAR DETAILS FROM CAR DEKHO.csv\n",
      "/kaggle/input/vehicle-dataset-from-cardekho/Car details v3.csv\n"
     ]
    }
   ],
   "source": [
    "# This Python 3 environment comes with many helpful analytics libraries installed\n",
    "# It is defined by the kaggle/python Docker image: https://github.com/kaggle/docker-python\n",
    "# For example, here's several helpful packages to load\n",
    "\n",
    "import numpy as np # linear algebra\n",
    "import pandas as pd # data processing, CSV file I/O (e.g. pd.read_csv)\n",
    "\n",
    "# Input data files are available in the read-only \"../input/\" directory\n",
    "# For example, running this (by clicking run or pressing Shift+Enter) will list all files under the input directory\n",
    "\n",
    "import os\n",
    "for dirname, _, filenames in os.walk('/kaggle/input'):\n",
    "    for filename in filenames:\n",
    "        print(os.path.join(dirname, filename))\n",
    "\n",
    "# You can write up to 20GB to the current directory (/kaggle/working/) that gets preserved as output when you create a version using \"Save & Run All\" \n",
    "# You can also write temporary files to /kaggle/temp/, but they won't be saved outside of the current session"
   ]
  },
  {
   "cell_type": "code",
   "execution_count": 2,
   "id": "4794a222",
   "metadata": {
    "execution": {
     "iopub.execute_input": "2024-02-02T09:20:19.750543Z",
     "iopub.status.busy": "2024-02-02T09:20:19.749654Z",
     "iopub.status.idle": "2024-02-02T09:20:19.771048Z",
     "shell.execute_reply": "2024-02-02T09:20:19.769840Z"
    },
    "papermill": {
     "duration": 0.038526,
     "end_time": "2024-02-02T09:20:19.774082",
     "exception": false,
     "start_time": "2024-02-02T09:20:19.735556",
     "status": "completed"
    },
    "tags": []
   },
   "outputs": [],
   "source": [
    "df = pd.read_csv('/kaggle/input/vehicle-dataset-from-cardekho/car data.csv')"
   ]
  },
  {
   "cell_type": "code",
   "execution_count": 3,
   "id": "ae80fb4d",
   "metadata": {
    "execution": {
     "iopub.execute_input": "2024-02-02T09:20:19.800431Z",
     "iopub.status.busy": "2024-02-02T09:20:19.799953Z",
     "iopub.status.idle": "2024-02-02T09:20:19.823575Z",
     "shell.execute_reply": "2024-02-02T09:20:19.822423Z"
    },
    "papermill": {
     "duration": 0.039682,
     "end_time": "2024-02-02T09:20:19.826136",
     "exception": false,
     "start_time": "2024-02-02T09:20:19.786454",
     "status": "completed"
    },
    "tags": []
   },
   "outputs": [
    {
     "data": {
      "text/html": [
       "<div>\n",
       "<style scoped>\n",
       "    .dataframe tbody tr th:only-of-type {\n",
       "        vertical-align: middle;\n",
       "    }\n",
       "\n",
       "    .dataframe tbody tr th {\n",
       "        vertical-align: top;\n",
       "    }\n",
       "\n",
       "    .dataframe thead th {\n",
       "        text-align: right;\n",
       "    }\n",
       "</style>\n",
       "<table border=\"1\" class=\"dataframe\">\n",
       "  <thead>\n",
       "    <tr style=\"text-align: right;\">\n",
       "      <th></th>\n",
       "      <th>Car_Name</th>\n",
       "      <th>Year</th>\n",
       "      <th>Selling_Price</th>\n",
       "      <th>Present_Price</th>\n",
       "      <th>Kms_Driven</th>\n",
       "      <th>Fuel_Type</th>\n",
       "      <th>Seller_Type</th>\n",
       "      <th>Transmission</th>\n",
       "      <th>Owner</th>\n",
       "    </tr>\n",
       "  </thead>\n",
       "  <tbody>\n",
       "    <tr>\n",
       "      <th>0</th>\n",
       "      <td>ritz</td>\n",
       "      <td>2014</td>\n",
       "      <td>3.35</td>\n",
       "      <td>5.59</td>\n",
       "      <td>27000</td>\n",
       "      <td>Petrol</td>\n",
       "      <td>Dealer</td>\n",
       "      <td>Manual</td>\n",
       "      <td>0</td>\n",
       "    </tr>\n",
       "    <tr>\n",
       "      <th>1</th>\n",
       "      <td>sx4</td>\n",
       "      <td>2013</td>\n",
       "      <td>4.75</td>\n",
       "      <td>9.54</td>\n",
       "      <td>43000</td>\n",
       "      <td>Diesel</td>\n",
       "      <td>Dealer</td>\n",
       "      <td>Manual</td>\n",
       "      <td>0</td>\n",
       "    </tr>\n",
       "    <tr>\n",
       "      <th>2</th>\n",
       "      <td>ciaz</td>\n",
       "      <td>2017</td>\n",
       "      <td>7.25</td>\n",
       "      <td>9.85</td>\n",
       "      <td>6900</td>\n",
       "      <td>Petrol</td>\n",
       "      <td>Dealer</td>\n",
       "      <td>Manual</td>\n",
       "      <td>0</td>\n",
       "    </tr>\n",
       "    <tr>\n",
       "      <th>3</th>\n",
       "      <td>wagon r</td>\n",
       "      <td>2011</td>\n",
       "      <td>2.85</td>\n",
       "      <td>4.15</td>\n",
       "      <td>5200</td>\n",
       "      <td>Petrol</td>\n",
       "      <td>Dealer</td>\n",
       "      <td>Manual</td>\n",
       "      <td>0</td>\n",
       "    </tr>\n",
       "    <tr>\n",
       "      <th>4</th>\n",
       "      <td>swift</td>\n",
       "      <td>2014</td>\n",
       "      <td>4.60</td>\n",
       "      <td>6.87</td>\n",
       "      <td>42450</td>\n",
       "      <td>Diesel</td>\n",
       "      <td>Dealer</td>\n",
       "      <td>Manual</td>\n",
       "      <td>0</td>\n",
       "    </tr>\n",
       "  </tbody>\n",
       "</table>\n",
       "</div>"
      ],
      "text/plain": [
       "  Car_Name  Year  Selling_Price  Present_Price  Kms_Driven Fuel_Type  \\\n",
       "0     ritz  2014           3.35           5.59       27000    Petrol   \n",
       "1      sx4  2013           4.75           9.54       43000    Diesel   \n",
       "2     ciaz  2017           7.25           9.85        6900    Petrol   \n",
       "3  wagon r  2011           2.85           4.15        5200    Petrol   \n",
       "4    swift  2014           4.60           6.87       42450    Diesel   \n",
       "\n",
       "  Seller_Type Transmission  Owner  \n",
       "0      Dealer       Manual      0  \n",
       "1      Dealer       Manual      0  \n",
       "2      Dealer       Manual      0  \n",
       "3      Dealer       Manual      0  \n",
       "4      Dealer       Manual      0  "
      ]
     },
     "execution_count": 3,
     "metadata": {},
     "output_type": "execute_result"
    }
   ],
   "source": [
    "df.head()"
   ]
  },
  {
   "cell_type": "code",
   "execution_count": 4,
   "id": "11892fd2",
   "metadata": {
    "execution": {
     "iopub.execute_input": "2024-02-02T09:20:19.854039Z",
     "iopub.status.busy": "2024-02-02T09:20:19.852869Z",
     "iopub.status.idle": "2024-02-02T09:20:19.865523Z",
     "shell.execute_reply": "2024-02-02T09:20:19.864634Z"
    },
    "papermill": {
     "duration": 0.029504,
     "end_time": "2024-02-02T09:20:19.868312",
     "exception": false,
     "start_time": "2024-02-02T09:20:19.838808",
     "status": "completed"
    },
    "tags": []
   },
   "outputs": [
    {
     "data": {
      "text/plain": [
       "Car_Name         0\n",
       "Year             0\n",
       "Selling_Price    0\n",
       "Present_Price    0\n",
       "Kms_Driven       0\n",
       "Fuel_Type        0\n",
       "Seller_Type      0\n",
       "Transmission     0\n",
       "Owner            0\n",
       "dtype: int64"
      ]
     },
     "execution_count": 4,
     "metadata": {},
     "output_type": "execute_result"
    }
   ],
   "source": [
    "df.isna().sum()"
   ]
  },
  {
   "cell_type": "code",
   "execution_count": 5,
   "id": "6fdf0916",
   "metadata": {
    "execution": {
     "iopub.execute_input": "2024-02-02T09:20:19.897228Z",
     "iopub.status.busy": "2024-02-02T09:20:19.896678Z",
     "iopub.status.idle": "2024-02-02T09:20:19.903842Z",
     "shell.execute_reply": "2024-02-02T09:20:19.902763Z"
    },
    "papermill": {
     "duration": 0.024698,
     "end_time": "2024-02-02T09:20:19.906233",
     "exception": false,
     "start_time": "2024-02-02T09:20:19.881535",
     "status": "completed"
    },
    "tags": []
   },
   "outputs": [
    {
     "data": {
      "text/plain": [
       "(301, 9)"
      ]
     },
     "execution_count": 5,
     "metadata": {},
     "output_type": "execute_result"
    }
   ],
   "source": [
    "df.shape"
   ]
  },
  {
   "cell_type": "code",
   "execution_count": 6,
   "id": "2ffa247c",
   "metadata": {
    "execution": {
     "iopub.execute_input": "2024-02-02T09:20:19.935355Z",
     "iopub.status.busy": "2024-02-02T09:20:19.934872Z",
     "iopub.status.idle": "2024-02-02T09:20:19.965931Z",
     "shell.execute_reply": "2024-02-02T09:20:19.964376Z"
    },
    "papermill": {
     "duration": 0.049526,
     "end_time": "2024-02-02T09:20:19.968602",
     "exception": false,
     "start_time": "2024-02-02T09:20:19.919076",
     "status": "completed"
    },
    "tags": []
   },
   "outputs": [
    {
     "name": "stdout",
     "output_type": "stream",
     "text": [
      "<class 'pandas.core.frame.DataFrame'>\n",
      "RangeIndex: 301 entries, 0 to 300\n",
      "Data columns (total 9 columns):\n",
      " #   Column         Non-Null Count  Dtype  \n",
      "---  ------         --------------  -----  \n",
      " 0   Car_Name       301 non-null    object \n",
      " 1   Year           301 non-null    int64  \n",
      " 2   Selling_Price  301 non-null    float64\n",
      " 3   Present_Price  301 non-null    float64\n",
      " 4   Kms_Driven     301 non-null    int64  \n",
      " 5   Fuel_Type      301 non-null    object \n",
      " 6   Seller_Type    301 non-null    object \n",
      " 7   Transmission   301 non-null    object \n",
      " 8   Owner          301 non-null    int64  \n",
      "dtypes: float64(2), int64(3), object(4)\n",
      "memory usage: 21.3+ KB\n"
     ]
    }
   ],
   "source": [
    "df.info()"
   ]
  },
  {
   "cell_type": "code",
   "execution_count": 7,
   "id": "6d143ef0",
   "metadata": {
    "execution": {
     "iopub.execute_input": "2024-02-02T09:20:19.996081Z",
     "iopub.status.busy": "2024-02-02T09:20:19.995669Z",
     "iopub.status.idle": "2024-02-02T09:20:20.007084Z",
     "shell.execute_reply": "2024-02-02T09:20:20.005705Z"
    },
    "papermill": {
     "duration": 0.028016,
     "end_time": "2024-02-02T09:20:20.009574",
     "exception": false,
     "start_time": "2024-02-02T09:20:19.981558",
     "status": "completed"
    },
    "tags": []
   },
   "outputs": [],
   "source": [
    "df = df.drop('Car_Name',axis=1)"
   ]
  },
  {
   "cell_type": "code",
   "execution_count": 8,
   "id": "6fe9f1bc",
   "metadata": {
    "execution": {
     "iopub.execute_input": "2024-02-02T09:20:20.037337Z",
     "iopub.status.busy": "2024-02-02T09:20:20.036882Z",
     "iopub.status.idle": "2024-02-02T09:20:20.056560Z",
     "shell.execute_reply": "2024-02-02T09:20:20.055414Z"
    },
    "papermill": {
     "duration": 0.036029,
     "end_time": "2024-02-02T09:20:20.058734",
     "exception": false,
     "start_time": "2024-02-02T09:20:20.022705",
     "status": "completed"
    },
    "tags": []
   },
   "outputs": [
    {
     "data": {
      "text/html": [
       "<div>\n",
       "<style scoped>\n",
       "    .dataframe tbody tr th:only-of-type {\n",
       "        vertical-align: middle;\n",
       "    }\n",
       "\n",
       "    .dataframe tbody tr th {\n",
       "        vertical-align: top;\n",
       "    }\n",
       "\n",
       "    .dataframe thead th {\n",
       "        text-align: right;\n",
       "    }\n",
       "</style>\n",
       "<table border=\"1\" class=\"dataframe\">\n",
       "  <thead>\n",
       "    <tr style=\"text-align: right;\">\n",
       "      <th></th>\n",
       "      <th>Year</th>\n",
       "      <th>Selling_Price</th>\n",
       "      <th>Present_Price</th>\n",
       "      <th>Kms_Driven</th>\n",
       "      <th>Fuel_Type</th>\n",
       "      <th>Seller_Type</th>\n",
       "      <th>Transmission</th>\n",
       "      <th>Owner</th>\n",
       "    </tr>\n",
       "  </thead>\n",
       "  <tbody>\n",
       "    <tr>\n",
       "      <th>0</th>\n",
       "      <td>2014</td>\n",
       "      <td>3.35</td>\n",
       "      <td>5.59</td>\n",
       "      <td>27000</td>\n",
       "      <td>Petrol</td>\n",
       "      <td>Dealer</td>\n",
       "      <td>Manual</td>\n",
       "      <td>0</td>\n",
       "    </tr>\n",
       "    <tr>\n",
       "      <th>1</th>\n",
       "      <td>2013</td>\n",
       "      <td>4.75</td>\n",
       "      <td>9.54</td>\n",
       "      <td>43000</td>\n",
       "      <td>Diesel</td>\n",
       "      <td>Dealer</td>\n",
       "      <td>Manual</td>\n",
       "      <td>0</td>\n",
       "    </tr>\n",
       "    <tr>\n",
       "      <th>2</th>\n",
       "      <td>2017</td>\n",
       "      <td>7.25</td>\n",
       "      <td>9.85</td>\n",
       "      <td>6900</td>\n",
       "      <td>Petrol</td>\n",
       "      <td>Dealer</td>\n",
       "      <td>Manual</td>\n",
       "      <td>0</td>\n",
       "    </tr>\n",
       "    <tr>\n",
       "      <th>3</th>\n",
       "      <td>2011</td>\n",
       "      <td>2.85</td>\n",
       "      <td>4.15</td>\n",
       "      <td>5200</td>\n",
       "      <td>Petrol</td>\n",
       "      <td>Dealer</td>\n",
       "      <td>Manual</td>\n",
       "      <td>0</td>\n",
       "    </tr>\n",
       "    <tr>\n",
       "      <th>4</th>\n",
       "      <td>2014</td>\n",
       "      <td>4.60</td>\n",
       "      <td>6.87</td>\n",
       "      <td>42450</td>\n",
       "      <td>Diesel</td>\n",
       "      <td>Dealer</td>\n",
       "      <td>Manual</td>\n",
       "      <td>0</td>\n",
       "    </tr>\n",
       "    <tr>\n",
       "      <th>...</th>\n",
       "      <td>...</td>\n",
       "      <td>...</td>\n",
       "      <td>...</td>\n",
       "      <td>...</td>\n",
       "      <td>...</td>\n",
       "      <td>...</td>\n",
       "      <td>...</td>\n",
       "      <td>...</td>\n",
       "    </tr>\n",
       "    <tr>\n",
       "      <th>296</th>\n",
       "      <td>2016</td>\n",
       "      <td>9.50</td>\n",
       "      <td>11.60</td>\n",
       "      <td>33988</td>\n",
       "      <td>Diesel</td>\n",
       "      <td>Dealer</td>\n",
       "      <td>Manual</td>\n",
       "      <td>0</td>\n",
       "    </tr>\n",
       "    <tr>\n",
       "      <th>297</th>\n",
       "      <td>2015</td>\n",
       "      <td>4.00</td>\n",
       "      <td>5.90</td>\n",
       "      <td>60000</td>\n",
       "      <td>Petrol</td>\n",
       "      <td>Dealer</td>\n",
       "      <td>Manual</td>\n",
       "      <td>0</td>\n",
       "    </tr>\n",
       "    <tr>\n",
       "      <th>298</th>\n",
       "      <td>2009</td>\n",
       "      <td>3.35</td>\n",
       "      <td>11.00</td>\n",
       "      <td>87934</td>\n",
       "      <td>Petrol</td>\n",
       "      <td>Dealer</td>\n",
       "      <td>Manual</td>\n",
       "      <td>0</td>\n",
       "    </tr>\n",
       "    <tr>\n",
       "      <th>299</th>\n",
       "      <td>2017</td>\n",
       "      <td>11.50</td>\n",
       "      <td>12.50</td>\n",
       "      <td>9000</td>\n",
       "      <td>Diesel</td>\n",
       "      <td>Dealer</td>\n",
       "      <td>Manual</td>\n",
       "      <td>0</td>\n",
       "    </tr>\n",
       "    <tr>\n",
       "      <th>300</th>\n",
       "      <td>2016</td>\n",
       "      <td>5.30</td>\n",
       "      <td>5.90</td>\n",
       "      <td>5464</td>\n",
       "      <td>Petrol</td>\n",
       "      <td>Dealer</td>\n",
       "      <td>Manual</td>\n",
       "      <td>0</td>\n",
       "    </tr>\n",
       "  </tbody>\n",
       "</table>\n",
       "<p>301 rows × 8 columns</p>\n",
       "</div>"
      ],
      "text/plain": [
       "     Year  Selling_Price  Present_Price  Kms_Driven Fuel_Type Seller_Type  \\\n",
       "0    2014           3.35           5.59       27000    Petrol      Dealer   \n",
       "1    2013           4.75           9.54       43000    Diesel      Dealer   \n",
       "2    2017           7.25           9.85        6900    Petrol      Dealer   \n",
       "3    2011           2.85           4.15        5200    Petrol      Dealer   \n",
       "4    2014           4.60           6.87       42450    Diesel      Dealer   \n",
       "..    ...            ...            ...         ...       ...         ...   \n",
       "296  2016           9.50          11.60       33988    Diesel      Dealer   \n",
       "297  2015           4.00           5.90       60000    Petrol      Dealer   \n",
       "298  2009           3.35          11.00       87934    Petrol      Dealer   \n",
       "299  2017          11.50          12.50        9000    Diesel      Dealer   \n",
       "300  2016           5.30           5.90        5464    Petrol      Dealer   \n",
       "\n",
       "    Transmission  Owner  \n",
       "0         Manual      0  \n",
       "1         Manual      0  \n",
       "2         Manual      0  \n",
       "3         Manual      0  \n",
       "4         Manual      0  \n",
       "..           ...    ...  \n",
       "296       Manual      0  \n",
       "297       Manual      0  \n",
       "298       Manual      0  \n",
       "299       Manual      0  \n",
       "300       Manual      0  \n",
       "\n",
       "[301 rows x 8 columns]"
      ]
     },
     "execution_count": 8,
     "metadata": {},
     "output_type": "execute_result"
    }
   ],
   "source": [
    "df"
   ]
  },
  {
   "cell_type": "code",
   "execution_count": 9,
   "id": "b1802feb",
   "metadata": {
    "execution": {
     "iopub.execute_input": "2024-02-02T09:20:20.088056Z",
     "iopub.status.busy": "2024-02-02T09:20:20.087601Z",
     "iopub.status.idle": "2024-02-02T09:20:20.094391Z",
     "shell.execute_reply": "2024-02-02T09:20:20.093305Z"
    },
    "papermill": {
     "duration": 0.024213,
     "end_time": "2024-02-02T09:20:20.096812",
     "exception": false,
     "start_time": "2024-02-02T09:20:20.072599",
     "status": "completed"
    },
    "tags": []
   },
   "outputs": [],
   "source": [
    "df['Vehicle_age'] = 2024 - df.Year"
   ]
  },
  {
   "cell_type": "code",
   "execution_count": 10,
   "id": "00af126f",
   "metadata": {
    "execution": {
     "iopub.execute_input": "2024-02-02T09:20:20.124865Z",
     "iopub.status.busy": "2024-02-02T09:20:20.124417Z",
     "iopub.status.idle": "2024-02-02T09:20:20.130689Z",
     "shell.execute_reply": "2024-02-02T09:20:20.129614Z"
    },
    "papermill": {
     "duration": 0.022969,
     "end_time": "2024-02-02T09:20:20.132980",
     "exception": false,
     "start_time": "2024-02-02T09:20:20.110011",
     "status": "completed"
    },
    "tags": []
   },
   "outputs": [],
   "source": [
    "df['Price_increase'] = df.Present_Price - df.Selling_Price"
   ]
  },
  {
   "cell_type": "code",
   "execution_count": 11,
   "id": "704228cd",
   "metadata": {
    "execution": {
     "iopub.execute_input": "2024-02-02T09:20:20.162718Z",
     "iopub.status.busy": "2024-02-02T09:20:20.162241Z",
     "iopub.status.idle": "2024-02-02T09:20:20.184339Z",
     "shell.execute_reply": "2024-02-02T09:20:20.183486Z"
    },
    "papermill": {
     "duration": 0.039964,
     "end_time": "2024-02-02T09:20:20.186783",
     "exception": false,
     "start_time": "2024-02-02T09:20:20.146819",
     "status": "completed"
    },
    "tags": []
   },
   "outputs": [
    {
     "data": {
      "text/html": [
       "<div>\n",
       "<style scoped>\n",
       "    .dataframe tbody tr th:only-of-type {\n",
       "        vertical-align: middle;\n",
       "    }\n",
       "\n",
       "    .dataframe tbody tr th {\n",
       "        vertical-align: top;\n",
       "    }\n",
       "\n",
       "    .dataframe thead th {\n",
       "        text-align: right;\n",
       "    }\n",
       "</style>\n",
       "<table border=\"1\" class=\"dataframe\">\n",
       "  <thead>\n",
       "    <tr style=\"text-align: right;\">\n",
       "      <th></th>\n",
       "      <th>Year</th>\n",
       "      <th>Selling_Price</th>\n",
       "      <th>Present_Price</th>\n",
       "      <th>Kms_Driven</th>\n",
       "      <th>Fuel_Type</th>\n",
       "      <th>Seller_Type</th>\n",
       "      <th>Transmission</th>\n",
       "      <th>Owner</th>\n",
       "      <th>Vehicle_age</th>\n",
       "      <th>Price_increase</th>\n",
       "    </tr>\n",
       "  </thead>\n",
       "  <tbody>\n",
       "    <tr>\n",
       "      <th>0</th>\n",
       "      <td>2014</td>\n",
       "      <td>3.35</td>\n",
       "      <td>5.59</td>\n",
       "      <td>27000</td>\n",
       "      <td>Petrol</td>\n",
       "      <td>Dealer</td>\n",
       "      <td>Manual</td>\n",
       "      <td>0</td>\n",
       "      <td>10</td>\n",
       "      <td>2.24</td>\n",
       "    </tr>\n",
       "    <tr>\n",
       "      <th>1</th>\n",
       "      <td>2013</td>\n",
       "      <td>4.75</td>\n",
       "      <td>9.54</td>\n",
       "      <td>43000</td>\n",
       "      <td>Diesel</td>\n",
       "      <td>Dealer</td>\n",
       "      <td>Manual</td>\n",
       "      <td>0</td>\n",
       "      <td>11</td>\n",
       "      <td>4.79</td>\n",
       "    </tr>\n",
       "    <tr>\n",
       "      <th>2</th>\n",
       "      <td>2017</td>\n",
       "      <td>7.25</td>\n",
       "      <td>9.85</td>\n",
       "      <td>6900</td>\n",
       "      <td>Petrol</td>\n",
       "      <td>Dealer</td>\n",
       "      <td>Manual</td>\n",
       "      <td>0</td>\n",
       "      <td>7</td>\n",
       "      <td>2.60</td>\n",
       "    </tr>\n",
       "    <tr>\n",
       "      <th>3</th>\n",
       "      <td>2011</td>\n",
       "      <td>2.85</td>\n",
       "      <td>4.15</td>\n",
       "      <td>5200</td>\n",
       "      <td>Petrol</td>\n",
       "      <td>Dealer</td>\n",
       "      <td>Manual</td>\n",
       "      <td>0</td>\n",
       "      <td>13</td>\n",
       "      <td>1.30</td>\n",
       "    </tr>\n",
       "    <tr>\n",
       "      <th>4</th>\n",
       "      <td>2014</td>\n",
       "      <td>4.60</td>\n",
       "      <td>6.87</td>\n",
       "      <td>42450</td>\n",
       "      <td>Diesel</td>\n",
       "      <td>Dealer</td>\n",
       "      <td>Manual</td>\n",
       "      <td>0</td>\n",
       "      <td>10</td>\n",
       "      <td>2.27</td>\n",
       "    </tr>\n",
       "    <tr>\n",
       "      <th>...</th>\n",
       "      <td>...</td>\n",
       "      <td>...</td>\n",
       "      <td>...</td>\n",
       "      <td>...</td>\n",
       "      <td>...</td>\n",
       "      <td>...</td>\n",
       "      <td>...</td>\n",
       "      <td>...</td>\n",
       "      <td>...</td>\n",
       "      <td>...</td>\n",
       "    </tr>\n",
       "    <tr>\n",
       "      <th>296</th>\n",
       "      <td>2016</td>\n",
       "      <td>9.50</td>\n",
       "      <td>11.60</td>\n",
       "      <td>33988</td>\n",
       "      <td>Diesel</td>\n",
       "      <td>Dealer</td>\n",
       "      <td>Manual</td>\n",
       "      <td>0</td>\n",
       "      <td>8</td>\n",
       "      <td>2.10</td>\n",
       "    </tr>\n",
       "    <tr>\n",
       "      <th>297</th>\n",
       "      <td>2015</td>\n",
       "      <td>4.00</td>\n",
       "      <td>5.90</td>\n",
       "      <td>60000</td>\n",
       "      <td>Petrol</td>\n",
       "      <td>Dealer</td>\n",
       "      <td>Manual</td>\n",
       "      <td>0</td>\n",
       "      <td>9</td>\n",
       "      <td>1.90</td>\n",
       "    </tr>\n",
       "    <tr>\n",
       "      <th>298</th>\n",
       "      <td>2009</td>\n",
       "      <td>3.35</td>\n",
       "      <td>11.00</td>\n",
       "      <td>87934</td>\n",
       "      <td>Petrol</td>\n",
       "      <td>Dealer</td>\n",
       "      <td>Manual</td>\n",
       "      <td>0</td>\n",
       "      <td>15</td>\n",
       "      <td>7.65</td>\n",
       "    </tr>\n",
       "    <tr>\n",
       "      <th>299</th>\n",
       "      <td>2017</td>\n",
       "      <td>11.50</td>\n",
       "      <td>12.50</td>\n",
       "      <td>9000</td>\n",
       "      <td>Diesel</td>\n",
       "      <td>Dealer</td>\n",
       "      <td>Manual</td>\n",
       "      <td>0</td>\n",
       "      <td>7</td>\n",
       "      <td>1.00</td>\n",
       "    </tr>\n",
       "    <tr>\n",
       "      <th>300</th>\n",
       "      <td>2016</td>\n",
       "      <td>5.30</td>\n",
       "      <td>5.90</td>\n",
       "      <td>5464</td>\n",
       "      <td>Petrol</td>\n",
       "      <td>Dealer</td>\n",
       "      <td>Manual</td>\n",
       "      <td>0</td>\n",
       "      <td>8</td>\n",
       "      <td>0.60</td>\n",
       "    </tr>\n",
       "  </tbody>\n",
       "</table>\n",
       "<p>301 rows × 10 columns</p>\n",
       "</div>"
      ],
      "text/plain": [
       "     Year  Selling_Price  Present_Price  Kms_Driven Fuel_Type Seller_Type  \\\n",
       "0    2014           3.35           5.59       27000    Petrol      Dealer   \n",
       "1    2013           4.75           9.54       43000    Diesel      Dealer   \n",
       "2    2017           7.25           9.85        6900    Petrol      Dealer   \n",
       "3    2011           2.85           4.15        5200    Petrol      Dealer   \n",
       "4    2014           4.60           6.87       42450    Diesel      Dealer   \n",
       "..    ...            ...            ...         ...       ...         ...   \n",
       "296  2016           9.50          11.60       33988    Diesel      Dealer   \n",
       "297  2015           4.00           5.90       60000    Petrol      Dealer   \n",
       "298  2009           3.35          11.00       87934    Petrol      Dealer   \n",
       "299  2017          11.50          12.50        9000    Diesel      Dealer   \n",
       "300  2016           5.30           5.90        5464    Petrol      Dealer   \n",
       "\n",
       "    Transmission  Owner  Vehicle_age  Price_increase  \n",
       "0         Manual      0           10            2.24  \n",
       "1         Manual      0           11            4.79  \n",
       "2         Manual      0            7            2.60  \n",
       "3         Manual      0           13            1.30  \n",
       "4         Manual      0           10            2.27  \n",
       "..           ...    ...          ...             ...  \n",
       "296       Manual      0            8            2.10  \n",
       "297       Manual      0            9            1.90  \n",
       "298       Manual      0           15            7.65  \n",
       "299       Manual      0            7            1.00  \n",
       "300       Manual      0            8            0.60  \n",
       "\n",
       "[301 rows x 10 columns]"
      ]
     },
     "execution_count": 11,
     "metadata": {},
     "output_type": "execute_result"
    }
   ],
   "source": [
    "df"
   ]
  },
  {
   "cell_type": "code",
   "execution_count": 12,
   "id": "fdf0d119",
   "metadata": {
    "execution": {
     "iopub.execute_input": "2024-02-02T09:20:20.216797Z",
     "iopub.status.busy": "2024-02-02T09:20:20.216329Z",
     "iopub.status.idle": "2024-02-02T09:20:20.222405Z",
     "shell.execute_reply": "2024-02-02T09:20:20.221229Z"
    },
    "papermill": {
     "duration": 0.02409,
     "end_time": "2024-02-02T09:20:20.224848",
     "exception": false,
     "start_time": "2024-02-02T09:20:20.200758",
     "status": "completed"
    },
    "tags": []
   },
   "outputs": [],
   "source": [
    "df = df.drop('Year',axis=1)"
   ]
  },
  {
   "cell_type": "code",
   "execution_count": 13,
   "id": "034a9eea",
   "metadata": {
    "execution": {
     "iopub.execute_input": "2024-02-02T09:20:20.255074Z",
     "iopub.status.busy": "2024-02-02T09:20:20.254654Z",
     "iopub.status.idle": "2024-02-02T09:20:21.824584Z",
     "shell.execute_reply": "2024-02-02T09:20:21.823562Z"
    },
    "papermill": {
     "duration": 1.588554,
     "end_time": "2024-02-02T09:20:21.827654",
     "exception": false,
     "start_time": "2024-02-02T09:20:20.239100",
     "status": "completed"
    },
    "tags": []
   },
   "outputs": [],
   "source": [
    "import seaborn as sns \n",
    "import matplotlib.pyplot as plt"
   ]
  },
  {
   "cell_type": "code",
   "execution_count": 14,
   "id": "d2a3f552",
   "metadata": {
    "execution": {
     "iopub.execute_input": "2024-02-02T09:20:21.856956Z",
     "iopub.status.busy": "2024-02-02T09:20:21.856520Z",
     "iopub.status.idle": "2024-02-02T09:20:22.414262Z",
     "shell.execute_reply": "2024-02-02T09:20:22.412979Z"
    },
    "papermill": {
     "duration": 0.575319,
     "end_time": "2024-02-02T09:20:22.416789",
     "exception": false,
     "start_time": "2024-02-02T09:20:21.841470",
     "status": "completed"
    },
    "tags": []
   },
   "outputs": [
    {
     "data": {
      "image/png": "[encoded data removed]",
      "text/plain": [
       "<Figure size 1000x600 with 1 Axes>"
      ]
     },
     "metadata": {},
     "output_type": "display_data"
    }
   ],
   "source": [
    "plt.figure(figsize=(10, 6))\n",
    "sns.countplot(x='Vehicle_age', hue='Fuel_Type', data=df)\n",
    "plt.title('Count of Vehicle Ages by Fuel Type')\n",
    "plt.xlabel('Age of Vehicle')\n",
    "plt.ylabel('Count')\n",
    "plt.show()"
   ]
  },
  {
   "cell_type": "code",
   "execution_count": 15,
   "id": "e1ee3676",
   "metadata": {
    "execution": {
     "iopub.execute_input": "2024-02-02T09:20:22.448087Z",
     "iopub.status.busy": "2024-02-02T09:20:22.447140Z",
     "iopub.status.idle": "2024-02-02T09:20:22.934593Z",
     "shell.execute_reply": "2024-02-02T09:20:22.933183Z"
    },
    "papermill": {
     "duration": 0.506428,
     "end_time": "2024-02-02T09:20:22.937340",
     "exception": false,
     "start_time": "2024-02-02T09:20:22.430912",
     "status": "completed"
    },
    "tags": []
   },
   "outputs": [
    {
     "data": {
      "image/png": "[encoded data removed]",
      "text/plain": [
       "<Figure size 1000x600 with 2 Axes>"
      ]
     },
     "metadata": {},
     "output_type": "display_data"
    }
   ],
   "source": [
    "plt.figure(figsize=(10, 6))\n",
    "heatmap_data = df.groupby(['Vehicle_age', 'Fuel_Type']).size().unstack().fillna(0)\n",
    "sns.heatmap(heatmap_data, cmap='Blues', annot=True, fmt='g')\n",
    "plt.title('Heatmap of Vehicle Ages by Fuel Type')\n",
    "plt.xlabel('Fuel Type')\n",
    "plt.ylabel('Age of Vehicle')\n",
    "plt.show()"
   ]
  },
  {
   "cell_type": "code",
   "execution_count": 16,
   "id": "d1b5c775",
   "metadata": {
    "execution": {
     "iopub.execute_input": "2024-02-02T09:20:22.971029Z",
     "iopub.status.busy": "2024-02-02T09:20:22.970614Z",
     "iopub.status.idle": "2024-02-02T09:20:23.448420Z",
     "shell.execute_reply": "2024-02-02T09:20:23.447123Z"
    },
    "papermill": {
     "duration": 0.498059,
     "end_time": "2024-02-02T09:20:23.451120",
     "exception": false,
     "start_time": "2024-02-02T09:20:22.953061",
     "status": "completed"
    },
    "tags": []
   },
   "outputs": [
    {
     "data": {
      "image/png": "[encoded data removed]",
      "text/plain": [
       "<Figure size 1000x600 with 1 Axes>"
      ]
     },
     "metadata": {},
     "output_type": "display_data"
    }
   ],
   "source": [
    "plt.figure(figsize=(10, 6))\n",
    "sns.scatterplot(x='Vehicle_age', y='Price_increase', data=df, hue='Vehicle_age', palette='viridis', s=100)\n",
    "plt.title('Scatter Plot of Price Increase vs. Age of Vehicle')\n",
    "plt.xlabel('Age of Vehicle')\n",
    "plt.ylabel('Price Increase')\n",
    "plt.legend(title='Age')\n",
    "plt.show()"
   ]
  },
  {
   "cell_type": "code",
   "execution_count": 17,
   "id": "182def63",
   "metadata": {
    "execution": {
     "iopub.execute_input": "2024-02-02T09:20:23.485906Z",
     "iopub.status.busy": "2024-02-02T09:20:23.484432Z",
     "iopub.status.idle": "2024-02-02T09:20:23.495216Z",
     "shell.execute_reply": "2024-02-02T09:20:23.494059Z"
    },
    "papermill": {
     "duration": 0.030843,
     "end_time": "2024-02-02T09:20:23.497988",
     "exception": false,
     "start_time": "2024-02-02T09:20:23.467145",
     "status": "completed"
    },
    "tags": []
   },
   "outputs": [],
   "source": [
    "df=pd.get_dummies(df, drop_first=True)"
   ]
  },
  {
   "cell_type": "code",
   "execution_count": 18,
   "id": "1f38253a",
   "metadata": {
    "execution": {
     "iopub.execute_input": "2024-02-02T09:20:23.533865Z",
     "iopub.status.busy": "2024-02-02T09:20:23.532499Z",
     "iopub.status.idle": "2024-02-02T09:20:23.554925Z",
     "shell.execute_reply": "2024-02-02T09:20:23.553543Z"
    },
    "papermill": {
     "duration": 0.043124,
     "end_time": "2024-02-02T09:20:23.557760",
     "exception": false,
     "start_time": "2024-02-02T09:20:23.514636",
     "status": "completed"
    },
    "tags": []
   },
   "outputs": [
    {
     "data": {
      "text/html": [
       "<div>\n",
       "<style scoped>\n",
       "    .dataframe tbody tr th:only-of-type {\n",
       "        vertical-align: middle;\n",
       "    }\n",
       "\n",
       "    .dataframe tbody tr th {\n",
       "        vertical-align: top;\n",
       "    }\n",
       "\n",
       "    .dataframe thead th {\n",
       "        text-align: right;\n",
       "    }\n",
       "</style>\n",
       "<table border=\"1\" class=\"dataframe\">\n",
       "  <thead>\n",
       "    <tr style=\"text-align: right;\">\n",
       "      <th></th>\n",
       "      <th>Selling_Price</th>\n",
       "      <th>Present_Price</th>\n",
       "      <th>Kms_Driven</th>\n",
       "      <th>Owner</th>\n",
       "      <th>Vehicle_age</th>\n",
       "      <th>Price_increase</th>\n",
       "      <th>Fuel_Type_Diesel</th>\n",
       "      <th>Fuel_Type_Petrol</th>\n",
       "      <th>Seller_Type_Individual</th>\n",
       "      <th>Transmission_Manual</th>\n",
       "    </tr>\n",
       "  </thead>\n",
       "  <tbody>\n",
       "    <tr>\n",
       "      <th>0</th>\n",
       "      <td>3.35</td>\n",
       "      <td>5.59</td>\n",
       "      <td>27000</td>\n",
       "      <td>0</td>\n",
       "      <td>10</td>\n",
       "      <td>2.24</td>\n",
       "      <td>False</td>\n",
       "      <td>True</td>\n",
       "      <td>False</td>\n",
       "      <td>True</td>\n",
       "    </tr>\n",
       "    <tr>\n",
       "      <th>1</th>\n",
       "      <td>4.75</td>\n",
       "      <td>9.54</td>\n",
       "      <td>43000</td>\n",
       "      <td>0</td>\n",
       "      <td>11</td>\n",
       "      <td>4.79</td>\n",
       "      <td>True</td>\n",
       "      <td>False</td>\n",
       "      <td>False</td>\n",
       "      <td>True</td>\n",
       "    </tr>\n",
       "    <tr>\n",
       "      <th>2</th>\n",
       "      <td>7.25</td>\n",
       "      <td>9.85</td>\n",
       "      <td>6900</td>\n",
       "      <td>0</td>\n",
       "      <td>7</td>\n",
       "      <td>2.60</td>\n",
       "      <td>False</td>\n",
       "      <td>True</td>\n",
       "      <td>False</td>\n",
       "      <td>True</td>\n",
       "    </tr>\n",
       "    <tr>\n",
       "      <th>3</th>\n",
       "      <td>2.85</td>\n",
       "      <td>4.15</td>\n",
       "      <td>5200</td>\n",
       "      <td>0</td>\n",
       "      <td>13</td>\n",
       "      <td>1.30</td>\n",
       "      <td>False</td>\n",
       "      <td>True</td>\n",
       "      <td>False</td>\n",
       "      <td>True</td>\n",
       "    </tr>\n",
       "    <tr>\n",
       "      <th>4</th>\n",
       "      <td>4.60</td>\n",
       "      <td>6.87</td>\n",
       "      <td>42450</td>\n",
       "      <td>0</td>\n",
       "      <td>10</td>\n",
       "      <td>2.27</td>\n",
       "      <td>True</td>\n",
       "      <td>False</td>\n",
       "      <td>False</td>\n",
       "      <td>True</td>\n",
       "    </tr>\n",
       "    <tr>\n",
       "      <th>...</th>\n",
       "      <td>...</td>\n",
       "      <td>...</td>\n",
       "      <td>...</td>\n",
       "      <td>...</td>\n",
       "      <td>...</td>\n",
       "      <td>...</td>\n",
       "      <td>...</td>\n",
       "      <td>...</td>\n",
       "      <td>...</td>\n",
       "      <td>...</td>\n",
       "    </tr>\n",
       "    <tr>\n",
       "      <th>296</th>\n",
       "      <td>9.50</td>\n",
       "      <td>11.60</td>\n",
       "      <td>33988</td>\n",
       "      <td>0</td>\n",
       "      <td>8</td>\n",
       "      <td>2.10</td>\n",
       "      <td>True</td>\n",
       "      <td>False</td>\n",
       "      <td>False</td>\n",
       "      <td>True</td>\n",
       "    </tr>\n",
       "    <tr>\n",
       "      <th>297</th>\n",
       "      <td>4.00</td>\n",
       "      <td>5.90</td>\n",
       "      <td>60000</td>\n",
       "      <td>0</td>\n",
       "      <td>9</td>\n",
       "      <td>1.90</td>\n",
       "      <td>False</td>\n",
       "      <td>True</td>\n",
       "      <td>False</td>\n",
       "      <td>True</td>\n",
       "    </tr>\n",
       "    <tr>\n",
       "      <th>298</th>\n",
       "      <td>3.35</td>\n",
       "      <td>11.00</td>\n",
       "      <td>87934</td>\n",
       "      <td>0</td>\n",
       "      <td>15</td>\n",
       "      <td>7.65</td>\n",
       "      <td>False</td>\n",
       "      <td>True</td>\n",
       "      <td>False</td>\n",
       "      <td>True</td>\n",
       "    </tr>\n",
       "    <tr>\n",
       "      <th>299</th>\n",
       "      <td>11.50</td>\n",
       "      <td>12.50</td>\n",
       "      <td>9000</td>\n",
       "      <td>0</td>\n",
       "      <td>7</td>\n",
       "      <td>1.00</td>\n",
       "      <td>True</td>\n",
       "      <td>False</td>\n",
       "      <td>False</td>\n",
       "      <td>True</td>\n",
       "    </tr>\n",
       "    <tr>\n",
       "      <th>300</th>\n",
       "      <td>5.30</td>\n",
       "      <td>5.90</td>\n",
       "      <td>5464</td>\n",
       "      <td>0</td>\n",
       "      <td>8</td>\n",
       "      <td>0.60</td>\n",
       "      <td>False</td>\n",
       "      <td>True</td>\n",
       "      <td>False</td>\n",
       "      <td>True</td>\n",
       "    </tr>\n",
       "  </tbody>\n",
       "</table>\n",
       "<p>301 rows × 10 columns</p>\n",
       "</div>"
      ],
      "text/plain": [
       "     Selling_Price  Present_Price  Kms_Driven  Owner  Vehicle_age  \\\n",
       "0             3.35           5.59       27000      0           10   \n",
       "1             4.75           9.54       43000      0           11   \n",
       "2             7.25           9.85        6900      0            7   \n",
       "3             2.85           4.15        5200      0           13   \n",
       "4             4.60           6.87       42450      0           10   \n",
       "..             ...            ...         ...    ...          ...   \n",
       "296           9.50          11.60       33988      0            8   \n",
       "297           4.00           5.90       60000      0            9   \n",
       "298           3.35          11.00       87934      0           15   \n",
       "299          11.50          12.50        9000      0            7   \n",
       "300           5.30           5.90        5464      0            8   \n",
       "\n",
       "     Price_increase  Fuel_Type_Diesel  Fuel_Type_Petrol  \\\n",
       "0              2.24             False              True   \n",
       "1              4.79              True             False   \n",
       "2              2.60             False              True   \n",
       "3              1.30             False              True   \n",
       "4              2.27              True             False   \n",
       "..              ...               ...               ...   \n",
       "296            2.10              True             False   \n",
       "297            1.90             False              True   \n",
       "298            7.65             False              True   \n",
       "299            1.00              True             False   \n",
       "300            0.60             False              True   \n",
       "\n",
       "     Seller_Type_Individual  Transmission_Manual  \n",
       "0                     False                 True  \n",
       "1                     False                 True  \n",
       "2                     False                 True  \n",
       "3                     False                 True  \n",
       "4                     False                 True  \n",
       "..                      ...                  ...  \n",
       "296                   False                 True  \n",
       "297                   False                 True  \n",
       "298                   False                 True  \n",
       "299                   False                 True  \n",
       "300                   False                 True  \n",
       "\n",
       "[301 rows x 10 columns]"
      ]
     },
     "execution_count": 18,
     "metadata": {},
     "output_type": "execute_result"
    }
   ],
   "source": [
    "df"
   ]
  },
  {
   "cell_type": "code",
   "execution_count": 19,
   "id": "527539a9",
   "metadata": {
    "execution": {
     "iopub.execute_input": "2024-02-02T09:20:23.593100Z",
     "iopub.status.busy": "2024-02-02T09:20:23.592385Z",
     "iopub.status.idle": "2024-02-02T09:20:23.613495Z",
     "shell.execute_reply": "2024-02-02T09:20:23.612296Z"
    },
    "papermill": {
     "duration": 0.041519,
     "end_time": "2024-02-02T09:20:23.616131",
     "exception": false,
     "start_time": "2024-02-02T09:20:23.574612",
     "status": "completed"
    },
    "tags": []
   },
   "outputs": [
    {
     "data": {
      "text/html": [
       "<div>\n",
       "<style scoped>\n",
       "    .dataframe tbody tr th:only-of-type {\n",
       "        vertical-align: middle;\n",
       "    }\n",
       "\n",
       "    .dataframe tbody tr th {\n",
       "        vertical-align: top;\n",
       "    }\n",
       "\n",
       "    .dataframe thead th {\n",
       "        text-align: right;\n",
       "    }\n",
       "</style>\n",
       "<table border=\"1\" class=\"dataframe\">\n",
       "  <thead>\n",
       "    <tr style=\"text-align: right;\">\n",
       "      <th></th>\n",
       "      <th>Selling_Price</th>\n",
       "      <th>Present_Price</th>\n",
       "      <th>Kms_Driven</th>\n",
       "      <th>Owner</th>\n",
       "      <th>Vehicle_age</th>\n",
       "      <th>Price_increase</th>\n",
       "      <th>Fuel_Type_Diesel</th>\n",
       "      <th>Fuel_Type_Petrol</th>\n",
       "      <th>Seller_Type_Individual</th>\n",
       "      <th>Transmission_Manual</th>\n",
       "    </tr>\n",
       "  </thead>\n",
       "  <tbody>\n",
       "    <tr>\n",
       "      <th>Selling_Price</th>\n",
       "      <td>1.000000</td>\n",
       "      <td>0.878983</td>\n",
       "      <td>0.029187</td>\n",
       "      <td>-0.088344</td>\n",
       "      <td>-0.236141</td>\n",
       "      <td>0.520881</td>\n",
       "      <td>0.552339</td>\n",
       "      <td>-0.540571</td>\n",
       "      <td>-0.550724</td>\n",
       "      <td>-0.367128</td>\n",
       "    </tr>\n",
       "    <tr>\n",
       "      <th>Present_Price</th>\n",
       "      <td>0.878983</td>\n",
       "      <td>1.000000</td>\n",
       "      <td>0.203647</td>\n",
       "      <td>0.008057</td>\n",
       "      <td>0.047584</td>\n",
       "      <td>0.864902</td>\n",
       "      <td>0.473306</td>\n",
       "      <td>-0.465244</td>\n",
       "      <td>-0.512030</td>\n",
       "      <td>-0.348715</td>\n",
       "    </tr>\n",
       "    <tr>\n",
       "      <th>Kms_Driven</th>\n",
       "      <td>0.029187</td>\n",
       "      <td>0.203647</td>\n",
       "      <td>1.000000</td>\n",
       "      <td>0.089216</td>\n",
       "      <td>0.524342</td>\n",
       "      <td>0.333832</td>\n",
       "      <td>0.172515</td>\n",
       "      <td>-0.172874</td>\n",
       "      <td>-0.101419</td>\n",
       "      <td>-0.162510</td>\n",
       "    </tr>\n",
       "    <tr>\n",
       "      <th>Owner</th>\n",
       "      <td>-0.088344</td>\n",
       "      <td>0.008057</td>\n",
       "      <td>0.089216</td>\n",
       "      <td>1.000000</td>\n",
       "      <td>0.182104</td>\n",
       "      <td>0.107415</td>\n",
       "      <td>-0.053469</td>\n",
       "      <td>0.055687</td>\n",
       "      <td>0.124269</td>\n",
       "      <td>-0.050316</td>\n",
       "    </tr>\n",
       "    <tr>\n",
       "      <th>Vehicle_age</th>\n",
       "      <td>-0.236141</td>\n",
       "      <td>0.047584</td>\n",
       "      <td>0.524342</td>\n",
       "      <td>0.182104</td>\n",
       "      <td>1.000000</td>\n",
       "      <td>0.333746</td>\n",
       "      <td>-0.064315</td>\n",
       "      <td>0.059959</td>\n",
       "      <td>0.039896</td>\n",
       "      <td>-0.000394</td>\n",
       "    </tr>\n",
       "    <tr>\n",
       "      <th>Price_increase</th>\n",
       "      <td>0.520881</td>\n",
       "      <td>0.864902</td>\n",
       "      <td>0.333832</td>\n",
       "      <td>0.107415</td>\n",
       "      <td>0.333746</td>\n",
       "      <td>1.000000</td>\n",
       "      <td>0.265881</td>\n",
       "      <td>-0.263835</td>\n",
       "      <td>-0.336902</td>\n",
       "      <td>-0.237802</td>\n",
       "    </tr>\n",
       "    <tr>\n",
       "      <th>Fuel_Type_Diesel</th>\n",
       "      <td>0.552339</td>\n",
       "      <td>0.473306</td>\n",
       "      <td>0.172515</td>\n",
       "      <td>-0.053469</td>\n",
       "      <td>-0.064315</td>\n",
       "      <td>0.265881</td>\n",
       "      <td>1.000000</td>\n",
       "      <td>-0.979648</td>\n",
       "      <td>-0.350467</td>\n",
       "      <td>-0.098643</td>\n",
       "    </tr>\n",
       "    <tr>\n",
       "      <th>Fuel_Type_Petrol</th>\n",
       "      <td>-0.540571</td>\n",
       "      <td>-0.465244</td>\n",
       "      <td>-0.172874</td>\n",
       "      <td>0.055687</td>\n",
       "      <td>0.059959</td>\n",
       "      <td>-0.263835</td>\n",
       "      <td>-0.979648</td>\n",
       "      <td>1.000000</td>\n",
       "      <td>0.358321</td>\n",
       "      <td>0.091013</td>\n",
       "    </tr>\n",
       "    <tr>\n",
       "      <th>Seller_Type_Individual</th>\n",
       "      <td>-0.550724</td>\n",
       "      <td>-0.512030</td>\n",
       "      <td>-0.101419</td>\n",
       "      <td>0.124269</td>\n",
       "      <td>0.039896</td>\n",
       "      <td>-0.336902</td>\n",
       "      <td>-0.350467</td>\n",
       "      <td>0.358321</td>\n",
       "      <td>1.000000</td>\n",
       "      <td>0.063240</td>\n",
       "    </tr>\n",
       "    <tr>\n",
       "      <th>Transmission_Manual</th>\n",
       "      <td>-0.367128</td>\n",
       "      <td>-0.348715</td>\n",
       "      <td>-0.162510</td>\n",
       "      <td>-0.050316</td>\n",
       "      <td>-0.000394</td>\n",
       "      <td>-0.237802</td>\n",
       "      <td>-0.098643</td>\n",
       "      <td>0.091013</td>\n",
       "      <td>0.063240</td>\n",
       "      <td>1.000000</td>\n",
       "    </tr>\n",
       "  </tbody>\n",
       "</table>\n",
       "</div>"
      ],
      "text/plain": [
       "                        Selling_Price  Present_Price  Kms_Driven     Owner  \\\n",
       "Selling_Price                1.000000       0.878983    0.029187 -0.088344   \n",
       "Present_Price                0.878983       1.000000    0.203647  0.008057   \n",
       "Kms_Driven                   0.029187       0.203647    1.000000  0.089216   \n",
       "Owner                       -0.088344       0.008057    0.089216  1.000000   \n",
       "Vehicle_age                 -0.236141       0.047584    0.524342  0.182104   \n",
       "Price_increase               0.520881       0.864902    0.333832  0.107415   \n",
       "Fuel_Type_Diesel             0.552339       0.473306    0.172515 -0.053469   \n",
       "Fuel_Type_Petrol            -0.540571      -0.465244   -0.172874  0.055687   \n",
       "Seller_Type_Individual      -0.550724      -0.512030   -0.101419  0.124269   \n",
       "Transmission_Manual         -0.367128      -0.348715   -0.162510 -0.050316   \n",
       "\n",
       "                        Vehicle_age  Price_increase  Fuel_Type_Diesel  \\\n",
       "Selling_Price             -0.236141        0.520881          0.552339   \n",
       "Present_Price              0.047584        0.864902          0.473306   \n",
       "Kms_Driven                 0.524342        0.333832          0.172515   \n",
       "Owner                      0.182104        0.107415         -0.053469   \n",
       "Vehicle_age                1.000000        0.333746         -0.064315   \n",
       "Price_increase             0.333746        1.000000          0.265881   \n",
       "Fuel_Type_Diesel          -0.064315        0.265881          1.000000   \n",
       "Fuel_Type_Petrol           0.059959       -0.263835         -0.979648   \n",
       "Seller_Type_Individual     0.039896       -0.336902         -0.350467   \n",
       "Transmission_Manual       -0.000394       -0.237802         -0.098643   \n",
       "\n",
       "                        Fuel_Type_Petrol  Seller_Type_Individual  \\\n",
       "Selling_Price                  -0.540571               -0.550724   \n",
       "Present_Price                  -0.465244               -0.512030   \n",
       "Kms_Driven                     -0.172874               -0.101419   \n",
       "Owner                           0.055687                0.124269   \n",
       "Vehicle_age                     0.059959                0.039896   \n",
       "Price_increase                 -0.263835               -0.336902   \n",
       "Fuel_Type_Diesel               -0.979648               -0.350467   \n",
       "Fuel_Type_Petrol                1.000000                0.358321   \n",
       "Seller_Type_Individual          0.358321                1.000000   \n",
       "Transmission_Manual             0.091013                0.063240   \n",
       "\n",
       "                        Transmission_Manual  \n",
       "Selling_Price                     -0.367128  \n",
       "Present_Price                     -0.348715  \n",
       "Kms_Driven                        -0.162510  \n",
       "Owner                             -0.050316  \n",
       "Vehicle_age                       -0.000394  \n",
       "Price_increase                    -0.237802  \n",
       "Fuel_Type_Diesel                  -0.098643  \n",
       "Fuel_Type_Petrol                   0.091013  \n",
       "Seller_Type_Individual             0.063240  \n",
       "Transmission_Manual                1.000000  "
      ]
     },
     "execution_count": 19,
     "metadata": {},
     "output_type": "execute_result"
    }
   ],
   "source": [
    "df.corr()"
   ]
  },
  {
   "cell_type": "code",
   "execution_count": 20,
   "id": "2b035f6b",
   "metadata": {
    "execution": {
     "iopub.execute_input": "2024-02-02T09:20:23.652596Z",
     "iopub.status.busy": "2024-02-02T09:20:23.652113Z",
     "iopub.status.idle": "2024-02-02T09:20:24.364467Z",
     "shell.execute_reply": "2024-02-02T09:20:24.363335Z"
    },
    "papermill": {
     "duration": 0.735022,
     "end_time": "2024-02-02T09:20:24.368603",
     "exception": false,
     "start_time": "2024-02-02T09:20:23.633581",
     "status": "completed"
    },
    "tags": []
   },
   "outputs": [
    {
     "data": {
      "image/png": "[encoded data removed]",
      "text/plain": [
       "<Figure size 1000x500 with 2 Axes>"
      ]
     },
     "metadata": {},
     "output_type": "display_data"
    }
   ],
   "source": [
    "corrmap = df.corr()\n",
    "top_corr_features = corrmap.index \n",
    "plt.figure(figsize=(10,5))\n",
    "g=sns.heatmap(df[top_corr_features].corr(),annot=True,cmap=\"RdYlGn\")"
   ]
  },
  {
   "cell_type": "markdown",
   "id": "77f69944",
   "metadata": {
    "papermill": {
     "duration": 0.019846,
     "end_time": "2024-02-02T09:20:24.408121",
     "exception": false,
     "start_time": "2024-02-02T09:20:24.388275",
     "status": "completed"
    },
    "tags": []
   },
   "source": []
  },
  {
   "cell_type": "markdown",
   "id": "c7195953",
   "metadata": {
    "papermill": {
     "duration": 0.018268,
     "end_time": "2024-02-02T09:20:24.445146",
     "exception": false,
     "start_time": "2024-02-02T09:20:24.426878",
     "status": "completed"
    },
    "tags": []
   },
   "source": [
    "Split the data "
   ]
  },
  {
   "cell_type": "code",
   "execution_count": 21,
   "id": "680af851",
   "metadata": {
    "execution": {
     "iopub.execute_input": "2024-02-02T09:20:24.485233Z",
     "iopub.status.busy": "2024-02-02T09:20:24.484279Z",
     "iopub.status.idle": "2024-02-02T09:20:24.490899Z",
     "shell.execute_reply": "2024-02-02T09:20:24.489793Z"
    },
    "papermill": {
     "duration": 0.02938,
     "end_time": "2024-02-02T09:20:24.493452",
     "exception": false,
     "start_time": "2024-02-02T09:20:24.464072",
     "status": "completed"
    },
    "tags": []
   },
   "outputs": [],
   "source": [
    "X = df.drop(\"Selling_Price\", axis = 1)\n",
    "\n",
    "# Dependent variables\n",
    "y = df['Selling_Price']"
   ]
  },
  {
   "cell_type": "code",
   "execution_count": 22,
   "id": "3e22213a",
   "metadata": {
    "execution": {
     "iopub.execute_input": "2024-02-02T09:20:24.533741Z",
     "iopub.status.busy": "2024-02-02T09:20:24.532975Z",
     "iopub.status.idle": "2024-02-02T09:20:25.318952Z",
     "shell.execute_reply": "2024-02-02T09:20:25.317205Z"
    },
    "papermill": {
     "duration": 0.809835,
     "end_time": "2024-02-02T09:20:25.322365",
     "exception": false,
     "start_time": "2024-02-02T09:20:24.512530",
     "status": "completed"
    },
    "tags": []
   },
   "outputs": [
    {
     "data": {
      "text/html": [
       "<style>#sk-container-id-1 {color: black;background-color: white;}#sk-container-id-1 pre{padding: 0;}#sk-container-id-1 div.sk-toggleable {background-color: white;}#sk-container-id-1 label.sk-toggleable__label {cursor: pointer;display: block;width: 100%;margin-bottom: 0;padding: 0.3em;box-sizing: border-box;text-align: center;}#sk-container-id-1 label.sk-toggleable__label-arrow:before {content: \"▸\";float: left;margin-right: 0.25em;color: #696969;}#sk-container-id-1 label.sk-toggleable__label-arrow:hover:before {color: black;}#sk-container-id-1 div.sk-estimator:hover label.sk-toggleable__label-arrow:before {color: black;}#sk-container-id-1 div.sk-toggleable__content {max-height: 0;max-width: 0;overflow: hidden;text-align: left;background-color: #f0f8ff;}#sk-container-id-1 div.sk-toggleable__content pre {margin: 0.2em;color: black;border-radius: 0.25em;background-color: #f0f8ff;}#sk-container-id-1 input.sk-toggleable__control:checked~div.sk-toggleable__content {max-height: 200px;max-width: 100%;overflow: auto;}#sk-container-id-1 input.sk-toggleable__control:checked~label.sk-toggleable__label-arrow:before {content: \"▾\";}#sk-container-id-1 div.sk-estimator input.sk-toggleable__control:checked~label.sk-toggleable__label {background-color: #d4ebff;}#sk-container-id-1 div.sk-label input.sk-toggleable__control:checked~label.sk-toggleable__label {background-color: #d4ebff;}#sk-container-id-1 input.sk-hidden--visually {border: 0;clip: rect(1px 1px 1px 1px);clip: rect(1px, 1px, 1px, 1px);height: 1px;margin: -1px;overflow: hidden;padding: 0;position: absolute;width: 1px;}#sk-container-id-1 div.sk-estimator {font-family: monospace;background-color: #f0f8ff;border: 1px dotted black;border-radius: 0.25em;box-sizing: border-box;margin-bottom: 0.5em;}#sk-container-id-1 div.sk-estimator:hover {background-color: #d4ebff;}#sk-container-id-1 div.sk-parallel-item::after {content: \"\";width: 100%;border-bottom: 1px solid gray;flex-grow: 1;}#sk-container-id-1 div.sk-label:hover label.sk-toggleable__label {background-color: #d4ebff;}#sk-container-id-1 div.sk-serial::before {content: \"\";position: absolute;border-left: 1px solid gray;box-sizing: border-box;top: 0;bottom: 0;left: 50%;z-index: 0;}#sk-container-id-1 div.sk-serial {display: flex;flex-direction: column;align-items: center;background-color: white;padding-right: 0.2em;padding-left: 0.2em;position: relative;}#sk-container-id-1 div.sk-item {position: relative;z-index: 1;}#sk-container-id-1 div.sk-parallel {display: flex;align-items: stretch;justify-content: center;background-color: white;position: relative;}#sk-container-id-1 div.sk-item::before, #sk-container-id-1 div.sk-parallel-item::before {content: \"\";position: absolute;border-left: 1px solid gray;box-sizing: border-box;top: 0;bottom: 0;left: 50%;z-index: -1;}#sk-container-id-1 div.sk-parallel-item {display: flex;flex-direction: column;z-index: 1;position: relative;background-color: white;}#sk-container-id-1 div.sk-parallel-item:first-child::after {align-self: flex-end;width: 50%;}#sk-container-id-1 div.sk-parallel-item:last-child::after {align-self: flex-start;width: 50%;}#sk-container-id-1 div.sk-parallel-item:only-child::after {width: 0;}#sk-container-id-1 div.sk-dashed-wrapped {border: 1px dashed gray;margin: 0 0.4em 0.5em 0.4em;box-sizing: border-box;padding-bottom: 0.4em;background-color: white;}#sk-container-id-1 div.sk-label label {font-family: monospace;font-weight: bold;display: inline-block;line-height: 1.2em;}#sk-container-id-1 div.sk-label-container {text-align: center;}#sk-container-id-1 div.sk-container {/* jupyter's `normalize.less` sets `[hidden] { display: none; }` but bootstrap.min.css set `[hidden] { display: none !important; }` so we also need the `!important` here to be able to override the default hidden behavior on the sphinx rendered scikit-learn.org. See: https://github.com/scikit-learn/scikit-learn/issues/21755 */display: inline-block !important;position: relative;}#sk-container-id-1 div.sk-text-repr-fallback {display: none;}</style><div id=\"sk-container-id-1\" class=\"sk-top-container\"><div class=\"sk-text-repr-fallback\"><pre>ExtraTreesRegressor()</pre><b>In a Jupyter environment, please rerun this cell to show the HTML representation or trust the notebook. <br />On GitHub, the HTML representation is unable to render, please try loading this page with nbviewer.org.</b></div><div class=\"sk-container\" hidden><div class=\"sk-item\"><div class=\"sk-estimator sk-toggleable\"><input class=\"sk-toggleable__control sk-hidden--visually\" id=\"sk-estimator-id-1\" type=\"checkbox\" checked><label for=\"sk-estimator-id-1\" class=\"sk-toggleable__label sk-toggleable__label-arrow\">ExtraTreesRegressor</label><div class=\"sk-toggleable__content\"><pre>ExtraTreesRegressor()</pre></div></div></div></div></div>"
      ],
      "text/plain": [
       "ExtraTreesRegressor()"
      ]
     },
     "execution_count": 22,
     "metadata": {},
     "output_type": "execute_result"
    }
   ],
   "source": [
    "from  sklearn.ensemble import ExtraTreesRegressor\n",
    "model = ExtraTreesRegressor()\n",
    "model.fit(X,y)"
   ]
  },
  {
   "cell_type": "code",
   "execution_count": 23,
   "id": "d7de894e",
   "metadata": {
    "execution": {
     "iopub.execute_input": "2024-02-02T09:20:25.370971Z",
     "iopub.status.busy": "2024-02-02T09:20:25.370009Z",
     "iopub.status.idle": "2024-02-02T09:20:25.384304Z",
     "shell.execute_reply": "2024-02-02T09:20:25.383059Z"
    },
    "papermill": {
     "duration": 0.042429,
     "end_time": "2024-02-02T09:20:25.387365",
     "exception": false,
     "start_time": "2024-02-02T09:20:25.344936",
     "status": "completed"
    },
    "tags": []
   },
   "outputs": [
    {
     "name": "stdout",
     "output_type": "stream",
     "text": [
      "[3.83460416e-01 3.06830588e-02 2.86693023e-04 6.06604415e-02\n",
      " 6.16048517e-02 2.03491647e-01 1.68584324e-02 1.15422742e-01\n",
      " 1.27531718e-01]\n"
     ]
    }
   ],
   "source": [
    "print(model.feature_importances_)"
   ]
  },
  {
   "cell_type": "code",
   "execution_count": 24,
   "id": "8ee94791",
   "metadata": {
    "execution": {
     "iopub.execute_input": "2024-02-02T09:20:25.436597Z",
     "iopub.status.busy": "2024-02-02T09:20:25.436107Z",
     "iopub.status.idle": "2024-02-02T09:20:25.650876Z",
     "shell.execute_reply": "2024-02-02T09:20:25.649538Z"
    },
    "papermill": {
     "duration": 0.240241,
     "end_time": "2024-02-02T09:20:25.653723",
     "exception": false,
     "start_time": "2024-02-02T09:20:25.413482",
     "status": "completed"
    },
    "tags": []
   },
   "outputs": [
    {
     "data": {
      "image/png": "[encoded data removed]",
      "text/plain": [
       "<Figure size 640x480 with 1 Axes>"
      ]
     },
     "metadata": {},
     "output_type": "display_data"
    }
   ],
   "source": [
    "feature_importance =pd.Series(model.feature_importances_, index = X.columns)\n",
    "feature_importance.nlargest(5).plot(kind = 'barh')\n",
    "plt.show()"
   ]
  },
  {
   "cell_type": "markdown",
   "id": "2e663416",
   "metadata": {
    "papermill": {
     "duration": 0.01972,
     "end_time": "2024-02-02T09:20:25.693600",
     "exception": false,
     "start_time": "2024-02-02T09:20:25.673880",
     "status": "completed"
    },
    "tags": []
   },
   "source": [
    "Train the model"
   ]
  },
  {
   "cell_type": "code",
   "execution_count": 25,
   "id": "988779ac",
   "metadata": {
    "execution": {
     "iopub.execute_input": "2024-02-02T09:20:25.735647Z",
     "iopub.status.busy": "2024-02-02T09:20:25.735213Z",
     "iopub.status.idle": "2024-02-02T09:20:25.744931Z",
     "shell.execute_reply": "2024-02-02T09:20:25.742957Z"
    },
    "papermill": {
     "duration": 0.033938,
     "end_time": "2024-02-02T09:20:25.748108",
     "exception": false,
     "start_time": "2024-02-02T09:20:25.714170",
     "status": "completed"
    },
    "tags": []
   },
   "outputs": [],
   "source": [
    "from sklearn.model_selection import train_test_split\n",
    "\n",
    "x_train, x_test, y_train, y_test = train_test_split(X, y, test_size=0.2, random_state=10)"
   ]
  },
  {
   "cell_type": "code",
   "execution_count": 26,
   "id": "b6a4b5b5",
   "metadata": {
    "execution": {
     "iopub.execute_input": "2024-02-02T09:20:25.797098Z",
     "iopub.status.busy": "2024-02-02T09:20:25.795927Z",
     "iopub.status.idle": "2024-02-02T09:20:25.830571Z",
     "shell.execute_reply": "2024-02-02T09:20:25.829615Z"
    },
    "papermill": {
     "duration": 0.059017,
     "end_time": "2024-02-02T09:20:25.832828",
     "exception": false,
     "start_time": "2024-02-02T09:20:25.773811",
     "status": "completed"
    },
    "tags": []
   },
   "outputs": [
    {
     "data": {
      "text/html": [
       "<style>#sk-container-id-2 {color: black;background-color: white;}#sk-container-id-2 pre{padding: 0;}#sk-container-id-2 div.sk-toggleable {background-color: white;}#sk-container-id-2 label.sk-toggleable__label {cursor: pointer;display: block;width: 100%;margin-bottom: 0;padding: 0.3em;box-sizing: border-box;text-align: center;}#sk-container-id-2 label.sk-toggleable__label-arrow:before {content: \"▸\";float: left;margin-right: 0.25em;color: #696969;}#sk-container-id-2 label.sk-toggleable__label-arrow:hover:before {color: black;}#sk-container-id-2 div.sk-estimator:hover label.sk-toggleable__label-arrow:before {color: black;}#sk-container-id-2 div.sk-toggleable__content {max-height: 0;max-width: 0;overflow: hidden;text-align: left;background-color: #f0f8ff;}#sk-container-id-2 div.sk-toggleable__content pre {margin: 0.2em;color: black;border-radius: 0.25em;background-color: #f0f8ff;}#sk-container-id-2 input.sk-toggleable__control:checked~div.sk-toggleable__content {max-height: 200px;max-width: 100%;overflow: auto;}#sk-container-id-2 input.sk-toggleable__control:checked~label.sk-toggleable__label-arrow:before {content: \"▾\";}#sk-container-id-2 div.sk-estimator input.sk-toggleable__control:checked~label.sk-toggleable__label {background-color: #d4ebff;}#sk-container-id-2 div.sk-label input.sk-toggleable__control:checked~label.sk-toggleable__label {background-color: #d4ebff;}#sk-container-id-2 input.sk-hidden--visually {border: 0;clip: rect(1px 1px 1px 1px);clip: rect(1px, 1px, 1px, 1px);height: 1px;margin: -1px;overflow: hidden;padding: 0;position: absolute;width: 1px;}#sk-container-id-2 div.sk-estimator {font-family: monospace;background-color: #f0f8ff;border: 1px dotted black;border-radius: 0.25em;box-sizing: border-box;margin-bottom: 0.5em;}#sk-container-id-2 div.sk-estimator:hover {background-color: #d4ebff;}#sk-container-id-2 div.sk-parallel-item::after {content: \"\";width: 100%;border-bottom: 1px solid gray;flex-grow: 1;}#sk-container-id-2 div.sk-label:hover label.sk-toggleable__label {background-color: #d4ebff;}#sk-container-id-2 div.sk-serial::before {content: \"\";position: absolute;border-left: 1px solid gray;box-sizing: border-box;top: 0;bottom: 0;left: 50%;z-index: 0;}#sk-container-id-2 div.sk-serial {display: flex;flex-direction: column;align-items: center;background-color: white;padding-right: 0.2em;padding-left: 0.2em;position: relative;}#sk-container-id-2 div.sk-item {position: relative;z-index: 1;}#sk-container-id-2 div.sk-parallel {display: flex;align-items: stretch;justify-content: center;background-color: white;position: relative;}#sk-container-id-2 div.sk-item::before, #sk-container-id-2 div.sk-parallel-item::before {content: \"\";position: absolute;border-left: 1px solid gray;box-sizing: border-box;top: 0;bottom: 0;left: 50%;z-index: -1;}#sk-container-id-2 div.sk-parallel-item {display: flex;flex-direction: column;z-index: 1;position: relative;background-color: white;}#sk-container-id-2 div.sk-parallel-item:first-child::after {align-self: flex-end;width: 50%;}#sk-container-id-2 div.sk-parallel-item:last-child::after {align-self: flex-start;width: 50%;}#sk-container-id-2 div.sk-parallel-item:only-child::after {width: 0;}#sk-container-id-2 div.sk-dashed-wrapped {border: 1px dashed gray;margin: 0 0.4em 0.5em 0.4em;box-sizing: border-box;padding-bottom: 0.4em;background-color: white;}#sk-container-id-2 div.sk-label label {font-family: monospace;font-weight: bold;display: inline-block;line-height: 1.2em;}#sk-container-id-2 div.sk-label-container {text-align: center;}#sk-container-id-2 div.sk-container {/* jupyter's `normalize.less` sets `[hidden] { display: none; }` but bootstrap.min.css set `[hidden] { display: none !important; }` so we also need the `!important` here to be able to override the default hidden behavior on the sphinx rendered scikit-learn.org. See: https://github.com/scikit-learn/scikit-learn/issues/21755 */display: inline-block !important;position: relative;}#sk-container-id-2 div.sk-text-repr-fallback {display: none;}</style><div id=\"sk-container-id-2\" class=\"sk-top-container\"><div class=\"sk-text-repr-fallback\"><pre>LinearRegression()</pre><b>In a Jupyter environment, please rerun this cell to show the HTML representation or trust the notebook. <br />On GitHub, the HTML representation is unable to render, please try loading this page with nbviewer.org.</b></div><div class=\"sk-container\" hidden><div class=\"sk-item\"><div class=\"sk-estimator sk-toggleable\"><input class=\"sk-toggleable__control sk-hidden--visually\" id=\"sk-estimator-id-2\" type=\"checkbox\" checked><label for=\"sk-estimator-id-2\" class=\"sk-toggleable__label sk-toggleable__label-arrow\">LinearRegression</label><div class=\"sk-toggleable__content\"><pre>LinearRegression()</pre></div></div></div></div></div>"
      ],
      "text/plain": [
       "LinearRegression()"
      ]
     },
     "execution_count": 26,
     "metadata": {},
     "output_type": "execute_result"
    }
   ],
   "source": [
    "from sklearn.linear_model import LinearRegression\n",
    "\n",
    "linr = LinearRegression()\n",
    "\n",
    "linr.fit(x_train, y_train)"
   ]
  },
  {
   "cell_type": "code",
   "execution_count": 27,
   "id": "85698212",
   "metadata": {
    "execution": {
     "iopub.execute_input": "2024-02-02T09:20:25.876812Z",
     "iopub.status.busy": "2024-02-02T09:20:25.875995Z",
     "iopub.status.idle": "2024-02-02T09:20:25.884079Z",
     "shell.execute_reply": "2024-02-02T09:20:25.882778Z"
    },
    "papermill": {
     "duration": 0.03318,
     "end_time": "2024-02-02T09:20:25.886810",
     "exception": false,
     "start_time": "2024-02-02T09:20:25.853630",
     "status": "completed"
    },
    "tags": []
   },
   "outputs": [],
   "source": [
    "y_pred = linr.predict(x_test)"
   ]
  },
  {
   "cell_type": "code",
   "execution_count": 28,
   "id": "3a81f4c9",
   "metadata": {
    "execution": {
     "iopub.execute_input": "2024-02-02T09:20:25.930742Z",
     "iopub.status.busy": "2024-02-02T09:20:25.929956Z",
     "iopub.status.idle": "2024-02-02T09:20:25.936806Z",
     "shell.execute_reply": "2024-02-02T09:20:25.935686Z"
    },
    "papermill": {
     "duration": 0.032187,
     "end_time": "2024-02-02T09:20:25.939007",
     "exception": false,
     "start_time": "2024-02-02T09:20:25.906820",
     "status": "completed"
    },
    "tags": []
   },
   "outputs": [
    {
     "name": "stdout",
     "output_type": "stream",
     "text": [
      "4.746747594455842e-26\n"
     ]
    }
   ],
   "source": [
    "from sklearn.metrics import mean_squared_error\n",
    "\n",
    "print(mean_squared_error(y_test, y_pred))"
   ]
  },
  {
   "cell_type": "code",
   "execution_count": 29,
   "id": "2da59a2a",
   "metadata": {
    "execution": {
     "iopub.execute_input": "2024-02-02T09:20:25.980469Z",
     "iopub.status.busy": "2024-02-02T09:20:25.980031Z",
     "iopub.status.idle": "2024-02-02T09:20:25.988309Z",
     "shell.execute_reply": "2024-02-02T09:20:25.987095Z"
    },
    "papermill": {
     "duration": 0.031945,
     "end_time": "2024-02-02T09:20:25.990887",
     "exception": false,
     "start_time": "2024-02-02T09:20:25.958942",
     "status": "completed"
    },
    "tags": []
   },
   "outputs": [
    {
     "name": "stdout",
     "output_type": "stream",
     "text": [
      "MSE :  4.746747594455842e-26\n",
      "RMSE :  2.1787031909959288e-13\n"
     ]
    }
   ],
   "source": [
    "from sklearn import metrics\n",
    "print('MSE : ', metrics.mean_squared_error(y_test, y_pred))\n",
    "print('RMSE : ', np.sqrt(metrics.mean_squared_error(y_test, y_pred)))"
   ]
  },
  {
   "cell_type": "code",
   "execution_count": 30,
   "id": "b8597ab3",
   "metadata": {
    "execution": {
     "iopub.execute_input": "2024-02-02T09:20:26.035846Z",
     "iopub.status.busy": "2024-02-02T09:20:26.035394Z",
     "iopub.status.idle": "2024-02-02T09:20:26.042629Z",
     "shell.execute_reply": "2024-02-02T09:20:26.041789Z"
    },
    "papermill": {
     "duration": 0.034332,
     "end_time": "2024-02-02T09:20:26.047049",
     "exception": false,
     "start_time": "2024-02-02T09:20:26.012717",
     "status": "completed"
    },
    "tags": []
   },
   "outputs": [
    {
     "name": "stdout",
     "output_type": "stream",
     "text": [
      "1.0\n"
     ]
    }
   ],
   "source": [
    "from sklearn.metrics import r2_score, adjusted_rand_score\n",
    "\n",
    "print(r2_score(y_test, y_pred))"
   ]
  },
  {
   "cell_type": "code",
   "execution_count": 31,
   "id": "571ad98a",
   "metadata": {
    "execution": {
     "iopub.execute_input": "2024-02-02T09:20:26.089864Z",
     "iopub.status.busy": "2024-02-02T09:20:26.089369Z",
     "iopub.status.idle": "2024-02-02T09:20:26.314720Z",
     "shell.execute_reply": "2024-02-02T09:20:26.313754Z"
    },
    "papermill": {
     "duration": 0.249544,
     "end_time": "2024-02-02T09:20:26.317146",
     "exception": false,
     "start_time": "2024-02-02T09:20:26.067602",
     "status": "completed"
    },
    "tags": []
   },
   "outputs": [
    {
     "data": {
      "text/plain": [
       "<matplotlib.collections.PathCollection at 0x7933912117b0>"
      ]
     },
     "execution_count": 31,
     "metadata": {},
     "output_type": "execute_result"
    },
    {
     "data": {
      "image/png": "[encoded data removed]",
      "text/plain": [
       "<Figure size 640x480 with 1 Axes>"
      ]
     },
     "metadata": {},
     "output_type": "display_data"
    }
   ],
   "source": [
    "plt.scatter(y_test, y_pred) "
   ]
  },
  {
   "cell_type": "code",
   "execution_count": 32,
   "id": "4bd9052e",
   "metadata": {
    "execution": {
     "iopub.execute_input": "2024-02-02T09:20:26.362853Z",
     "iopub.status.busy": "2024-02-02T09:20:26.362034Z",
     "iopub.status.idle": "2024-02-02T09:20:26.559568Z",
     "shell.execute_reply": "2024-02-02T09:20:26.558342Z"
    },
    "papermill": {
     "duration": 0.223727,
     "end_time": "2024-02-02T09:20:26.562087",
     "exception": false,
     "start_time": "2024-02-02T09:20:26.338360",
     "status": "completed"
    },
    "tags": []
   },
   "outputs": [
    {
     "data": {
      "image/png": "[encoded data removed]",
      "text/plain": [
       "<Figure size 640x480 with 1 Axes>"
      ]
     },
     "metadata": {},
     "output_type": "display_data"
    }
   ],
   "source": [
    "plt.plot(x_test[20:40], y_test[20:40], '.', color = 'green')\n",
    "plt.plot(x_test[20:40], y_pred[20:40], '+', color = 'red')\n",
    "plt.show()"
   ]
  },
  {
   "cell_type": "code",
   "execution_count": 33,
   "id": "9f38958a",
   "metadata": {
    "execution": {
     "iopub.execute_input": "2024-02-02T09:20:26.606547Z",
     "iopub.status.busy": "2024-02-02T09:20:26.605791Z",
     "iopub.status.idle": "2024-02-02T09:20:26.626481Z",
     "shell.execute_reply": "2024-02-02T09:20:26.625098Z"
    },
    "papermill": {
     "duration": 0.046118,
     "end_time": "2024-02-02T09:20:26.629064",
     "exception": false,
     "start_time": "2024-02-02T09:20:26.582946",
     "status": "completed"
    },
    "tags": []
   },
   "outputs": [
    {
     "data": {
      "text/html": [
       "<div>\n",
       "<style scoped>\n",
       "    .dataframe tbody tr th:only-of-type {\n",
       "        vertical-align: middle;\n",
       "    }\n",
       "\n",
       "    .dataframe tbody tr th {\n",
       "        vertical-align: top;\n",
       "    }\n",
       "\n",
       "    .dataframe thead th {\n",
       "        text-align: right;\n",
       "    }\n",
       "</style>\n",
       "<table border=\"1\" class=\"dataframe\">\n",
       "  <thead>\n",
       "    <tr style=\"text-align: right;\">\n",
       "      <th></th>\n",
       "      <th>Actuel</th>\n",
       "      <th>Predict</th>\n",
       "      <th>Taux</th>\n",
       "    </tr>\n",
       "  </thead>\n",
       "  <tbody>\n",
       "    <tr>\n",
       "      <th>258</th>\n",
       "      <td>8.40</td>\n",
       "      <td>8.40</td>\n",
       "      <td>3.730349e-14</td>\n",
       "    </tr>\n",
       "    <tr>\n",
       "      <th>154</th>\n",
       "      <td>0.50</td>\n",
       "      <td>0.50</td>\n",
       "      <td>9.692247e-14</td>\n",
       "    </tr>\n",
       "    <tr>\n",
       "      <th>227</th>\n",
       "      <td>2.55</td>\n",
       "      <td>2.55</td>\n",
       "      <td>-7.327472e-14</td>\n",
       "    </tr>\n",
       "    <tr>\n",
       "      <th>126</th>\n",
       "      <td>0.90</td>\n",
       "      <td>0.90</td>\n",
       "      <td>1.200151e-13</td>\n",
       "    </tr>\n",
       "    <tr>\n",
       "      <th>268</th>\n",
       "      <td>4.80</td>\n",
       "      <td>4.80</td>\n",
       "      <td>5.861978e-14</td>\n",
       "    </tr>\n",
       "    <tr>\n",
       "      <th>1</th>\n",
       "      <td>4.75</td>\n",
       "      <td>4.75</td>\n",
       "      <td>-2.575717e-14</td>\n",
       "    </tr>\n",
       "    <tr>\n",
       "      <th>59</th>\n",
       "      <td>19.99</td>\n",
       "      <td>19.99</td>\n",
       "      <td>-2.486900e-14</td>\n",
       "    </tr>\n",
       "    <tr>\n",
       "      <th>192</th>\n",
       "      <td>0.20</td>\n",
       "      <td>0.20</td>\n",
       "      <td>-4.193867e-14</td>\n",
       "    </tr>\n",
       "    <tr>\n",
       "      <th>131</th>\n",
       "      <td>0.75</td>\n",
       "      <td>0.75</td>\n",
       "      <td>6.217249e-14</td>\n",
       "    </tr>\n",
       "    <tr>\n",
       "      <th>259</th>\n",
       "      <td>3.90</td>\n",
       "      <td>3.90</td>\n",
       "      <td>-4.440892e-16</td>\n",
       "    </tr>\n",
       "    <tr>\n",
       "      <th>170</th>\n",
       "      <td>0.40</td>\n",
       "      <td>0.40</td>\n",
       "      <td>1.055822e-13</td>\n",
       "    </tr>\n",
       "    <tr>\n",
       "      <th>282</th>\n",
       "      <td>8.25</td>\n",
       "      <td>8.25</td>\n",
       "      <td>-9.592327e-14</td>\n",
       "    </tr>\n",
       "    <tr>\n",
       "      <th>294</th>\n",
       "      <td>3.75</td>\n",
       "      <td>3.75</td>\n",
       "      <td>9.325873e-15</td>\n",
       "    </tr>\n",
       "    <tr>\n",
       "      <th>163</th>\n",
       "      <td>0.45</td>\n",
       "      <td>0.45</td>\n",
       "      <td>3.108624e-14</td>\n",
       "    </tr>\n",
       "    <tr>\n",
       "      <th>222</th>\n",
       "      <td>6.00</td>\n",
       "      <td>6.00</td>\n",
       "      <td>-1.447731e-13</td>\n",
       "    </tr>\n",
       "    <tr>\n",
       "      <th>92</th>\n",
       "      <td>3.51</td>\n",
       "      <td>3.51</td>\n",
       "      <td>-1.372236e-13</td>\n",
       "    </tr>\n",
       "    <tr>\n",
       "      <th>242</th>\n",
       "      <td>4.40</td>\n",
       "      <td>4.40</td>\n",
       "      <td>7.105427e-15</td>\n",
       "    </tr>\n",
       "    <tr>\n",
       "      <th>196</th>\n",
       "      <td>0.17</td>\n",
       "      <td>0.17</td>\n",
       "      <td>-1.609463e-12</td>\n",
       "    </tr>\n",
       "    <tr>\n",
       "      <th>24</th>\n",
       "      <td>2.90</td>\n",
       "      <td>2.90</td>\n",
       "      <td>-7.327472e-14</td>\n",
       "    </tr>\n",
       "    <tr>\n",
       "      <th>247</th>\n",
       "      <td>5.95</td>\n",
       "      <td>5.95</td>\n",
       "      <td>-8.881784e-16</td>\n",
       "    </tr>\n",
       "  </tbody>\n",
       "</table>\n",
       "</div>"
      ],
      "text/plain": [
       "     Actuel  Predict          Taux\n",
       "258    8.40     8.40  3.730349e-14\n",
       "154    0.50     0.50  9.692247e-14\n",
       "227    2.55     2.55 -7.327472e-14\n",
       "126    0.90     0.90  1.200151e-13\n",
       "268    4.80     4.80  5.861978e-14\n",
       "1      4.75     4.75 -2.575717e-14\n",
       "59    19.99    19.99 -2.486900e-14\n",
       "192    0.20     0.20 -4.193867e-14\n",
       "131    0.75     0.75  6.217249e-14\n",
       "259    3.90     3.90 -4.440892e-16\n",
       "170    0.40     0.40  1.055822e-13\n",
       "282    8.25     8.25 -9.592327e-14\n",
       "294    3.75     3.75  9.325873e-15\n",
       "163    0.45     0.45  3.108624e-14\n",
       "222    6.00     6.00 -1.447731e-13\n",
       "92     3.51     3.51 -1.372236e-13\n",
       "242    4.40     4.40  7.105427e-15\n",
       "196    0.17     0.17 -1.609463e-12\n",
       "24     2.90     2.90 -7.327472e-14\n",
       "247    5.95     5.95 -8.881784e-16"
      ]
     },
     "execution_count": 33,
     "metadata": {},
     "output_type": "execute_result"
    }
   ],
   "source": [
    "data= {\n",
    "    'Actuel':y_test[:20] , \n",
    "    'Predict': y_pred[:20],\n",
    "    'Taux':y_pred[:20] - y_test[:20]\n",
    "}\n",
    "df1 = pd.DataFrame(data)\n",
    "df1"
   ]
  },
  {
   "cell_type": "code",
   "execution_count": 34,
   "id": "e6b4405d",
   "metadata": {
    "execution": {
     "iopub.execute_input": "2024-02-02T09:20:26.674450Z",
     "iopub.status.busy": "2024-02-02T09:20:26.673332Z",
     "iopub.status.idle": "2024-02-02T09:20:27.182611Z",
     "shell.execute_reply": "2024-02-02T09:20:27.181100Z"
    },
    "papermill": {
     "duration": 0.534658,
     "end_time": "2024-02-02T09:20:27.185240",
     "exception": false,
     "start_time": "2024-02-02T09:20:26.650582",
     "status": "completed"
    },
    "tags": []
   },
   "outputs": [
    {
     "name": "stdout",
     "output_type": "stream",
     "text": [
      "[0.38251118 0.02877515 0.00089495 0.06420043 0.05451648 0.21004254\n",
      " 0.0162012  0.11030747 0.1325506 ]\n"
     ]
    },
    {
     "data": {
      "image/png": "[encoded data removed]",
      "text/plain": [
       "<Figure size 640x480 with 1 Axes>"
      ]
     },
     "metadata": {},
     "output_type": "display_data"
    },
    {
     "name": "stdout",
     "output_type": "stream",
     "text": [
      "Mean Squared Error: 1.4491785146706008e-27\n",
      "R-squared: 1.0\n"
     ]
    }
   ],
   "source": [
    "import pandas as pd\n",
    "import matplotlib.pyplot as plt\n",
    "from sklearn.ensemble import ExtraTreesRegressor\n",
    "from sklearn.linear_model import LinearRegression\n",
    "from sklearn.model_selection import train_test_split\n",
    "from sklearn.metrics import mean_squared_error, r2_score\n",
    "\n",
    "# Assuming df contains your dataset\n",
    "X = df.drop(\"Selling_Price\", axis=1)\n",
    "y = df['Selling_Price']\n",
    "\n",
    "# Split the data into training and testing sets\n",
    "x_train, x_test, y_train, y_test = train_test_split(X, y, test_size=0.2, random_state=42)\n",
    "\n",
    "# Feature importance analysis\n",
    "model = ExtraTreesRegressor()\n",
    "model.fit(X, y)\n",
    "print(model.feature_importances_)\n",
    "\n",
    "feature_importance = pd.Series(model.feature_importances_, index=X.columns)\n",
    "feature_importance.nlargest(5).plot(kind='barh')\n",
    "plt.show()\n",
    "\n",
    "# Linear Regression\n",
    "linr = LinearRegression()\n",
    "linr.fit(x_train, y_train)\n",
    "\n",
    "y_pred = linr.predict(x_test)\n",
    "\n",
    "# Evaluate the model\n",
    "print(\"Mean Squared Error:\", mean_squared_error(y_test, y_pred))\n",
    "print(\"R-squared:\", r2_score(y_test, y_pred))\n"
   ]
  },
  {
   "cell_type": "code",
   "execution_count": null,
   "id": "c3e4792d",
   "metadata": {
    "papermill": {
     "duration": 0.022686,
     "end_time": "2024-02-02T09:20:27.230440",
     "exception": false,
     "start_time": "2024-02-02T09:20:27.207754",
     "status": "completed"
    },
    "tags": []
   },
   "outputs": [],
   "source": []
  }
 ],
 "metadata": {
  "kaggle": {
   "accelerator": "none",
   "dataSources": [
    {
     "datasetId": 33080,
     "sourceId": 4852390,
     "sourceType": "datasetVersion"
    }
   ],
   "dockerImageVersionId": 30646,
   "isGpuEnabled": false,
   "isInternetEnabled": false,
   "language": "python",
   "sourceType": "notebook"
  },
  "kernelspec": {
   "display_name": "Python 3",
   "language": "python",
   "name": "python3"
  },
  "language_info": {
   "codemirror_mode": {
    "name": "ipython",
    "version": 3
   },
   "file_extension": ".py",
   "mimetype": "text/x-python",
   "name": "python",
   "nbconvert_exporter": "python",
   "pygments_lexer": "ipython3",
   "version": "3.10.13"
  },
  "papermill": {
   "default_parameters": {},
   "duration": 12.480844,
   "end_time": "2024-02-02T09:20:28.060444",
   "environment_variables": {},
   "exception": null,
   "input_path": "__notebook__.ipynb",
   "output_path": "__notebook__.ipynb",
   "parameters": {},
   "start_time": "2024-02-02T09:20:15.579600",
   "version": "2.5.0"
  }
 },
 "nbformat": 4,
 "nbformat_minor": 5
}
